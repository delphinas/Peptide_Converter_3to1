{
  "cells": [
    {
      "cell_type": "code",
      "source": [
        "from Bio.PDB.Polypeptide import *\n",
        "\n",
        "# Define your sequence\n",
        "hyphenlist = ['Gly-Asn-Leu-Trp-Ala-Thr-Gly-His-Phe-Met']\n",
        "# Create empty list\n",
        "newlist = []\n",
        "# Loop thorugh the hyphenlist, append - with ,\n",
        "for x in hyphenlist:\n",
        "    newlist.append(x.replace('-', ''))\n",
        "\n",
        "# Convert list to string\n",
        "str1 = ''.join(newlist)\n",
        "\n",
        "# Convert list to uppercases\n",
        "upper_str1 = str1.upper()\n",
        "\n",
        "# `Convert 3-letter code to 1\n",
        "\"\".join([three_to_one(aa3) for aa3 in [ \"\".join(g) for g in zip(*(iter(upper_str1),) * 3)]])"
      ],
      "outputs": [
        {
          "output_type": "execute_result",
          "data": {
            "text/plain": "'GNLWATGHFM'"
          },
          "metadata": {},
          "execution_count": 1
        }
      ],
      "execution_count": 1,
      "metadata": {
        "button": false,
        "collapsed": false,
        "deletable": true,
        "new_sheet": false,
        "run_control": {
          "read_only": false
        },
        "execution": {
          "iopub.status.busy": "2020-04-13T12:46:46.689Z",
          "iopub.execute_input": "2020-04-13T12:46:46.693Z",
          "iopub.status.idle": "2020-04-13T12:46:46.701Z",
          "shell.execute_reply": "2020-04-13T12:46:46.706Z"
        }
      }
    }
  ],
  "metadata": {
    "kernelspec": {
      "display_name": "Python 3.7.6 64-bit ('python3': conda)",
      "language": "python",
      "name": "python37664bitpython3condab6209d91242d483ea6bd0768825de959"
    },
    "language_info": {
      "name": "python",
      "version": "3.7.6-final",
      "mimetype": "text/x-python",
      "codemirror_mode": {
        "name": "ipython",
        "version": 3
      },
      "pygments_lexer": "ipython3",
      "nbconvert_exporter": "python",
      "file_extension": ".py"
    },
    "nteract": {
      "version": "0.22.4"
    }
  },
  "nbformat": 4,
  "nbformat_minor": 2
}