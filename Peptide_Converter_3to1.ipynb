{
 "cells": [
  {
   "cell_type": "code",
   "execution_count": 58,
   "metadata": {
    "button": false,
    "collapsed": false,
    "deletable": true,
    "new_sheet": false,
    "run_control": {
     "read_only": false
    }
   },
   "outputs": [
    {
     "data": {
      "text/plain": [
       "'YKVNEYQGPVAPSGGFFLFRPRN'"
      ]
     },
     "execution_count": 58,
     "metadata": {},
     "output_type": "execute_result"
    }
   ],
   "source": [
    "from Bio.PDB.Polypeptide import *\n",
    "\n",
    "# Define your sequence\n",
    "hyphenlist = ['Tyr-Lys-Val-Asn-Glu-Tyr-Gln-Gly-Pro-Val-Ala-Pro-Ser-Gly-Gly-Phe-Phe-Leu-Phe-Arg-Pro-Arg-Asn-']\n",
    "# Create empty list\n",
    "newlist = []\n",
    "# Loop thorugh the hyphenlist, append - with ,\n",
    "for x in hyphenlist:\n",
    "    newlist.append(x.replace('-', ''))\n",
    "\n",
    "# Convert list to string\n",
    "str1 = ''.join(newlist)\n",
    "\n",
    "# Convert list to uppercases\n",
    "upper_str1 = str1.upper()\n",
    "\n",
    "# `Convert 3-letter code to 1\n",
    "\"\".join([three_to_one(aa3) for aa3 in [ \"\".join(g) for g in zip(*(iter(upper_str1),) * 3)]])"
   ]
  },
  {
   "cell_type": "code",
   "execution_count": null,
   "metadata": {
    "button": false,
    "collapsed": true,
    "deletable": true,
    "new_sheet": false,
    "run_control": {
     "read_only": false
    }
   },
   "outputs": [],
   "source": []
  },
  {
   "cell_type": "code",
   "execution_count": null,
   "metadata": {
    "collapsed": true,
    "run_control": {}
   },
   "outputs": [],
   "source": []
  }
 ],
 "metadata": {
  "kernelspec": {
   "display_name": "Python [conda env:python3]",
   "language": "python",
   "name": "conda-env-python3-py"
  },
  "language_info": {
   "codemirror_mode": {
    "name": "ipython",
    "version": 3
   },
   "file_extension": ".py",
   "mimetype": "text/x-python",
   "name": "python",
   "nbconvert_exporter": "python",
   "pygments_lexer": "ipython3",
   "version": "3.7.6"
  }
 },
 "nbformat": 4,
 "nbformat_minor": 2
}
